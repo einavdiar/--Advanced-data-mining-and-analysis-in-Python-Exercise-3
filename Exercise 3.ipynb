{
 "cells": [
  {
   "cell_type": "markdown",
   "id": "004ae78a",
   "metadata": {},
   "source": [
    "# Advanced data mining and analysis in Python"
   ]
  },
  {
   "cell_type": "markdown",
   "id": "9a4bdf2e",
   "metadata": {},
   "source": [
    "## Exercise number 2:"
   ]
  },
  {
   "cell_type": "markdown",
   "id": "4995b8d1",
   "metadata": {},
   "source": [
    "### Name: Einav Diar\n",
    "#### ID Num: 319010807"
   ]
  },
  {
   "cell_type": "code",
   "execution_count": 1,
   "id": "31fd49e8",
   "metadata": {},
   "outputs": [],
   "source": [
    "import requests\n",
    "import json\n",
    "import pandas as pd"
   ]
  },
  {
   "cell_type": "code",
   "execution_count": 2,
   "id": "ef2a5477",
   "metadata": {},
   "outputs": [],
   "source": [
    "# Read the file\n",
    "with open('dests.txt', 'r') as file:\n",
    "    destinations = [line.strip() for line in file.readlines()]\n",
    "\n",
    "# Define my API keys\n",
    "distance_matrix_api_key = \"\"\n",
    "geocoding_api_key = \"\"\n"
   ]
  },
  {
   "cell_type": "markdown",
   "id": "c067bc4e",
   "metadata": {},
   "source": [
    "### Question 1:"
   ]
  },
  {
   "cell_type": "code",
   "execution_count": 3,
   "id": "35eaa69d",
   "metadata": {},
   "outputs": [],
   "source": [
    "# Set up empty lists to store data\n",
    "target_list = []\n",
    "distance_list = []\n",
    "duration_list = []\n",
    "longitude_list = []\n",
    "latitude_list = []"
   ]
  },
  {
   "cell_type": "code",
   "execution_count": 4,
   "id": "eaa69f72",
   "metadata": {},
   "outputs": [],
   "source": [
    "for destination in destinations:\n",
    "    # Make a request to the Google Maps Distance Matrix API\n",
    "    distance_url = f\"https://maps.googleapis.com/maps/api/distancematrix/json?units=metric&origins=Tel+Aviv&destinations={destination}&key={distance_matrix_api_key}\"\n",
    "    distance_response = requests.get(distance_url)\n",
    "    distance_data = json.loads(distance_response.text)\n",
    "\n",
    "    # Parse the JSON response and extract the required information\n",
    "    distance = distance_data[\"rows\"][0][\"elements\"][0][\"distance\"][\"value\"] / 1000  # Convert meters to kilometers\n",
    "    duration = distance_data[\"rows\"][0][\"elements\"][0][\"duration\"][\"text\"]\n",
    "\n",
    "    # Make a request to the Google Maps Geocoding API\n",
    "    geocoding_url = f\"https://maps.googleapis.com/maps/api/geocode/json?address={destination}&key={geocoding_api_key}\"\n",
    "    geocoding_response = requests.get(geocoding_url)\n",
    "    geocoding_data = json.loads(geocoding_response.text)\n",
    "\n",
    "    # Parse the JSON response and extract the required information\n",
    "    location = geocoding_data[\"results\"][0][\"geometry\"][\"location\"]\n",
    "    latitude = location[\"lat\"]\n",
    "    longitude = location[\"lng\"]\n",
    "\n",
    "    # Append the data to the respective lists\n",
    "    target_list.append(destination)\n",
    "    distance_list.append(distance)\n",
    "    duration_list.append(duration)\n",
    "    longitude_list.append(longitude)\n",
    "    latitude_list.append(latitude)\n",
    "    \n",
    "data = {\n",
    "    \"Target\": target_list,\n",
    "    \"Distance_km\": distance_list,\n",
    "    \"Duration\": duration_list,\n",
    "    \"Longitude\": longitude_list,\n",
    "    \"Latitude\": latitude_list\n",
    "}\n",
    "df = pd.DataFrame(data)"
   ]
  },
  {
   "cell_type": "code",
   "execution_count": 5,
   "id": "d29d7dde",
   "metadata": {},
   "outputs": [
    {
     "data": {
      "text/html": [
       "<div>\n",
       "<style scoped>\n",
       "    .dataframe tbody tr th:only-of-type {\n",
       "        vertical-align: middle;\n",
       "    }\n",
       "\n",
       "    .dataframe tbody tr th {\n",
       "        vertical-align: top;\n",
       "    }\n",
       "\n",
       "    .dataframe thead th {\n",
       "        text-align: right;\n",
       "    }\n",
       "</style>\n",
       "<table border=\"1\" class=\"dataframe\">\n",
       "  <thead>\n",
       "    <tr style=\"text-align: right;\">\n",
       "      <th></th>\n",
       "      <th>Target</th>\n",
       "      <th>Distance_km</th>\n",
       "      <th>Duration</th>\n",
       "      <th>Longitude</th>\n",
       "      <th>Latitude</th>\n",
       "    </tr>\n",
       "  </thead>\n",
       "  <tbody>\n",
       "    <tr>\n",
       "      <th>0</th>\n",
       "      <td>Istanbul</td>\n",
       "      <td>1815.227</td>\n",
       "      <td>21 hours 3 mins</td>\n",
       "      <td>28.978359</td>\n",
       "      <td>41.008238</td>\n",
       "    </tr>\n",
       "    <tr>\n",
       "      <th>1</th>\n",
       "      <td>Amsterdam</td>\n",
       "      <td>4527.132</td>\n",
       "      <td>2 days 0 hours</td>\n",
       "      <td>4.904139</td>\n",
       "      <td>52.367573</td>\n",
       "    </tr>\n",
       "    <tr>\n",
       "      <th>2</th>\n",
       "      <td>Valletta</td>\n",
       "      <td>3792.883</td>\n",
       "      <td>2 days 3 hours</td>\n",
       "      <td>14.514100</td>\n",
       "      <td>35.899237</td>\n",
       "    </tr>\n",
       "    <tr>\n",
       "      <th>3</th>\n",
       "      <td>Basel</td>\n",
       "      <td>4092.805</td>\n",
       "      <td>1 day 20 hours</td>\n",
       "      <td>7.588576</td>\n",
       "      <td>47.559599</td>\n",
       "    </tr>\n",
       "    <tr>\n",
       "      <th>4</th>\n",
       "      <td>Doha</td>\n",
       "      <td>2164.477</td>\n",
       "      <td>22 hours 39 mins</td>\n",
       "      <td>51.531040</td>\n",
       "      <td>25.285447</td>\n",
       "    </tr>\n",
       "  </tbody>\n",
       "</table>\n",
       "</div>"
      ],
      "text/plain": [
       "      Target  Distance_km          Duration  Longitude   Latitude\n",
       "0   Istanbul     1815.227   21 hours 3 mins  28.978359  41.008238\n",
       "1  Amsterdam     4527.132    2 days 0 hours   4.904139  52.367573\n",
       "2   Valletta     3792.883    2 days 3 hours  14.514100  35.899237\n",
       "3      Basel     4092.805    1 day 20 hours   7.588576  47.559599\n",
       "4       Doha     2164.477  22 hours 39 mins  51.531040  25.285447"
      ]
     },
     "execution_count": 5,
     "metadata": {},
     "output_type": "execute_result"
    }
   ],
   "source": [
    "df"
   ]
  },
  {
   "cell_type": "markdown",
   "id": "13f49ff3",
   "metadata": {},
   "source": [
    "### Question 2:"
   ]
  },
  {
   "cell_type": "code",
   "execution_count": 6,
   "id": "96e81282",
   "metadata": {},
   "outputs": [
    {
     "data": {
      "text/plain": [
       "1    Amsterdam\n",
       "3        Basel\n",
       "2     Valletta\n",
       "Name: Target, dtype: object"
      ]
     },
     "execution_count": 6,
     "metadata": {},
     "output_type": "execute_result"
    }
   ],
   "source": [
    "# Select the top three cities farthest from Tel Aviv\n",
    "sorted_data = df.sort_values(by=\"Distance_km\", ascending=False)\n",
    "furthest_cities = sorted_data.head(3)\n",
    "furthest_cities['Target']"
   ]
  }
 ],
 "metadata": {
  "kernelspec": {
   "display_name": "Python 3 (ipykernel)",
   "language": "python",
   "name": "python3"
  },
  "language_info": {
   "codemirror_mode": {
    "name": "ipython",
    "version": 3
   },
   "file_extension": ".py",
   "mimetype": "text/x-python",
   "name": "python",
   "nbconvert_exporter": "python",
   "pygments_lexer": "ipython3",
   "version": "3.9.6"
  }
 },
 "nbformat": 4,
 "nbformat_minor": 5
}
